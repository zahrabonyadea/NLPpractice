{
  "nbformat": 4,
  "nbformat_minor": 0,
  "metadata": {
    "colab": {
      "provenance": [],
      "authorship_tag": "ABX9TyM/gY75eBL8qmzngLi3PJPG",
      "include_colab_link": true
    },
    "kernelspec": {
      "name": "python3",
      "display_name": "Python 3"
    },
    "language_info": {
      "name": "python"
    }
  },
  "cells": [
    {
      "cell_type": "markdown",
      "metadata": {
        "id": "view-in-github",
        "colab_type": "text"
      },
      "source": [
        "<a href=\"https://colab.research.google.com/github/zahrabonyadea/NLPpractice/blob/main/Untitled16.ipynb\" target=\"_parent\"><img src=\"https://colab.research.google.com/assets/colab-badge.svg\" alt=\"Open In Colab\"/></a>"
      ]
    },
    {
      "cell_type": "code",
      "execution_count": 1,
      "metadata": {
        "colab": {
          "base_uri": "https://localhost:8080/"
        },
        "id": "6JNfFfunHrbm",
        "outputId": "d5a13521-417f-4e1e-c006-deab46ef9acc"
      },
      "outputs": [
        {
          "output_type": "stream",
          "name": "stderr",
          "text": [
            "[nltk_data] Downloading package wordnet to /root/nltk_data...\n"
          ]
        },
        {
          "output_type": "execute_result",
          "data": {
            "text/plain": [
              "True"
            ]
          },
          "metadata": {},
          "execution_count": 1
        }
      ],
      "source": [
        "import nltk.corpus\n",
        "from nltk.corpus import wordnet\n",
        "nltk.download('wordnet')"
      ]
    },
    {
      "cell_type": "code",
      "source": [
        "syn = wordnet.synsets(\"courageous\")\n",
        "print(\"Happy wordnet:\\n\")\n",
        "print(syn[0].name())\n",
        "print(syn[0].lemmas())\n",
        "print(syn[0].definition())\n",
        "print(syn[0].examples(), \"\\n##############################\")\n",
        "##################################\n",
        "synonyms = []\n",
        "antonyms = []\n",
        "for s in wordnet.synsets('courageous'):\n",
        "  for l in s.lemmas():\n",
        "    synonyms.append(l.name())\n",
        "    if l.antonyms():\n",
        "      antonyms.append(l.antonyms()[0].name)\n",
        "\n",
        "print(\"synonyms of courageous = \", set(synonyms))\n",
        "print(\"antonyms of courageous = \", set(antonyms))"
      ],
      "metadata": {
        "colab": {
          "base_uri": "https://localhost:8080/"
        },
        "id": "HfXpbIYOH7dW",
        "outputId": "a84d0d27-f5fb-4a56-8eb6-7a0f1c96cdca"
      },
      "execution_count": 2,
      "outputs": [
        {
          "output_type": "stream",
          "name": "stdout",
          "text": [
            "Happy wordnet:\n",
            "\n",
            "brave.a.01\n",
            "[Lemma('brave.a.01.brave'), Lemma('brave.a.01.courageous')]\n",
            "possessing or displaying courage; able to face and deal with danger or fear without flinching; - Herman Melville; - William Wordsworth\n",
            "['Familiarity with danger makes a brave man braver but less daring', 'a frank courageous heart...triumphed over pain', 'set a courageous example by leading them safely into and out of enemy-held territory'] \n",
            "##############################\n",
            "synonyms of courageous =  {'courageous', 'brave'}\n",
            "antonyms of courageous =  {<bound method Lemma.name of Lemma('cowardly.a.01.cowardly')>}\n"
          ]
        }
      ]
    }
  ]
}